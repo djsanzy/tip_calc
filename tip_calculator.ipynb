{
 "cells": [
  {
   "cell_type": "code",
   "execution_count": 13,
   "id": "945fe54b",
   "metadata": {},
   "outputs": [
    {
     "name": "stdout",
     "output_type": "stream",
     "text": [
      "WELCOME TO THE TIP CALCULATOR\n"
     ]
    }
   ],
   "source": [
    "print(\"WELCOME TO THE TIP CALCULATOR\")"
   ]
  },
  {
   "cell_type": "code",
   "execution_count": 14,
   "id": "ddad8259",
   "metadata": {},
   "outputs": [
    {
     "name": "stdout",
     "output_type": "stream",
     "text": [
      "What's the total bill? \n",
      "$150\n",
      "How many percentage would you like to give? 10, 12, 15? \n",
      "12\n",
      "How many persons would split the bill? \n",
      "5\n"
     ]
    }
   ],
   "source": [
    "bill_amount = float(input(\"What's the total bill? \\n$\"))\n",
    "\n",
    "tip = int(input(\"How many percentage would you like to give? 10, 12, 15? \\n\"))\n",
    "\n",
    "persons = int(input(\"How many persons would split the bill? \\n\"))"
   ]
  },
  {
   "cell_type": "code",
   "execution_count": 15,
   "id": "5229f8e2",
   "metadata": {},
   "outputs": [
    {
     "name": "stdout",
     "output_type": "stream",
     "text": [
      "Each person should pay $33.6\n"
     ]
    }
   ],
   "source": [
    "total_bill = round(bill_amount * (1 + tip / 100) / persons, 2)\n",
    "\n",
    "print(f\"Each person should pay ${total_bill}\")"
   ]
  },
  {
   "cell_type": "code",
   "execution_count": 16,
   "id": "430d2e2e",
   "metadata": {},
   "outputs": [
    {
     "data": {
      "text/plain": [
       "'C:\\\\Users\\\\ZOMMY\\\\Untitled Folder'"
      ]
     },
     "execution_count": 16,
     "metadata": {},
     "output_type": "execute_result"
    }
   ],
   "source": [
    "pwd"
   ]
  },
  {
   "cell_type": "code",
   "execution_count": null,
   "id": "e1b84039",
   "metadata": {},
   "outputs": [],
   "source": []
  },
  {
   "cell_type": "code",
   "execution_count": null,
   "id": "2c54910c",
   "metadata": {},
   "outputs": [],
   "source": []
  },
  {
   "cell_type": "code",
   "execution_count": null,
   "id": "91fda763",
   "metadata": {},
   "outputs": [],
   "source": []
  },
  {
   "cell_type": "code",
   "execution_count": null,
   "id": "912ea25a",
   "metadata": {},
   "outputs": [],
   "source": []
  },
  {
   "cell_type": "code",
   "execution_count": null,
   "id": "e9bb8854",
   "metadata": {},
   "outputs": [],
   "source": []
  },
  {
   "cell_type": "code",
   "execution_count": null,
   "id": "5346968e",
   "metadata": {},
   "outputs": [],
   "source": []
  }
 ],
 "metadata": {
  "kernelspec": {
   "display_name": "Python 3 (ipykernel)",
   "language": "python",
   "name": "python3"
  },
  "language_info": {
   "codemirror_mode": {
    "name": "ipython",
    "version": 3
   },
   "file_extension": ".py",
   "mimetype": "text/x-python",
   "name": "python",
   "nbconvert_exporter": "python",
   "pygments_lexer": "ipython3",
   "version": "3.9.12"
  }
 },
 "nbformat": 4,
 "nbformat_minor": 5
}
